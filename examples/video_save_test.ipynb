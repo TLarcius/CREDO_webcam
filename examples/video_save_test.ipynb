{
 "cells": [
  {
   "cell_type": "code",
   "execution_count": 1,
   "id": "1d8f9468-86ca-4d98-894d-bd7e3f688a6d",
   "metadata": {},
   "outputs": [],
   "source": [
    "import numpy as np\n",
    "import cv2\n",
    "\n",
    "from datetime import datetime\n",
    "from matplotlib import pyplot as plt"
   ]
  },
  {
   "cell_type": "code",
   "execution_count": 2,
   "id": "cff1ee28-1517-4533-af11-3325700dbef1",
   "metadata": {},
   "outputs": [
    {
     "name": "stdout",
     "output_type": "stream",
     "text": [
      "Streaming from device 7\n",
      "Default resolution:  640  x  480\n",
      "Default frame rate:  30.0\n"
     ]
    },
    {
     "name": "stderr",
     "output_type": "stream",
     "text": [
      "[ WARN:0@1.449] global cap_gstreamer.cpp:1777 open OpenCV | GStreamer warning: Cannot query video position: status=0, value=-1, duration=-1\n"
     ]
    }
   ],
   "source": [
    "# Open device\n",
    "\n",
    "# mycam = 0    # Build-in webcam\n",
    "# mycam = 5    # Device number for first external WebCam\n",
    "mycam = 7    # Device number for second external WebCam\n",
    "\n",
    "cap = cv2.VideoCapture(mycam) \n",
    "\n",
    "if not cap.isOpened() :\n",
    "    print(f\"Could not open video device {mycam}\")\n",
    "else :\n",
    "    print(f\"Streaming from device {mycam}\")\n",
    "\n",
    "# Frame size and rate\n",
    "\n",
    "imgsize = (int(cap.get(cv2.CAP_PROP_FRAME_WIDTH)), int(cap.get(cv2.CAP_PROP_FRAME_HEIGHT)))\n",
    "imgrate = cap.get(cv2.CAP_PROP_FPS)\n",
    "\n",
    "print(\"Default resolution: \",imgsize[0],\" x \",imgsize[1])\n",
    "print(\"Default frame rate: \",imgrate)"
   ]
  },
  {
   "cell_type": "code",
   "execution_count": 3,
   "id": "1b927c03-d3a7-4b76-b7fc-a42bd0f4083b",
   "metadata": {},
   "outputs": [],
   "source": [
    "# Possible changes of camera parameters\n",
    "\n",
    "# Rate modification goes first, as it changes resolution (?!)\n",
    "\n",
    "# imgrate = 5\n",
    "\n",
    "# cap.set(cv2.CAP_PROP_FPS, imgrate)\n",
    "\n",
    "# Modify image size\n",
    "\n",
    "# imgsize = (320, 240)\n",
    "# imgsize = (640, 480)\n",
    "# imgsize = (800, 600)\n",
    "# imgsize = (1280, 960)\n",
    "# imgsize = (1920, 1080)\n",
    "\n",
    "# cap.set(cv2.CAP_PROP_FRAME_WIDTH, imgsize[0])\n",
    "# cap.set(cv2.CAP_PROP_FRAME_HEIGHT, imgsize[1])\n",
    "\n",
    "# Modified frame size and rate are NOT properly returned !!!\n",
    "\n",
    "# imgsize = (int(cap.get(cv2.CAP_PROP_FRAME_WIDTH)), int(cap.get(cv2.CAP_PROP_FRAME_HEIGHT)))\n",
    "# imgrate = cap.get(cv2.CAP_PROP_FPS)\n",
    "\n",
    "# print(\"Set resolution: \",imgsize[0],\" x \",imgsize[1])\n",
    "# print(\"Set frame rate: \",imgrate)\n"
   ]
  },
  {
   "cell_type": "code",
   "execution_count": 4,
   "id": "4e3e71e0-f79a-4b38-82ac-6f506330e308",
   "metadata": {},
   "outputs": [],
   "source": [
    "# Output frame flow\n",
    "\n",
    "outname = 'video_save_test.avi'\n",
    "\n",
    "Nmax = 300\n",
    "\n",
    "# Define the codec and create VideoWriter object\n",
    "# The list of available codes can be found in https://fourcc.org/codecs.php\n",
    "# It is platform dependent.\n",
    "\n",
    "outrate = 30\n",
    "fourcc = cv2.VideoWriter_fourcc(*'H264')\n",
    "out = cv2.VideoWriter(outname, fourcc, outrate, imgsize)\n"
   ]
  },
  {
   "cell_type": "code",
   "execution_count": 5,
   "id": "62085c62-52ae-46e1-b76d-5e821df128a6",
   "metadata": {},
   "outputs": [
    {
     "name": "stdout",
     "output_type": "stream",
     "text": [
      "Data taking started at 2025-05-12 19:52:38.610359  (1747072358.610)\n",
      "Streaming from device 7 completed\n",
      "Frame resolution:  640  x  480\n",
      "Expected rate:  30.0\n",
      "300 frames captured in 40.344209 s\n",
      "Average rate 7.436011448384079 Hz\n"
     ]
    }
   ],
   "source": [
    "# Main loop    \n",
    "\n",
    "Nframe = 0\n",
    "t_start = datetime.now()\n",
    "print(f\"Data taking started at {t_start}  ({t_start.timestamp():.3f})\")\n",
    "\n",
    "while cap.isOpened():\n",
    "    \n",
    "    ret, frame = cap.read()\n",
    "    \n",
    "    if not ret:\n",
    "        print(\"Can't receive frame (stream error?). Exiting ...\")\n",
    "        break\n",
    "        \n",
    "    # write out the frame (as read)\n",
    "    \n",
    "    out.write(frame)\n",
    "    \n",
    "    Nframe += 1\n",
    " \n",
    "    cv2.imshow('frame', frame)\n",
    "    cv2.setWindowTitle('frame','event #'+str(Nframe))\n",
    "\n",
    "    if Nframe == Nmax :   # Assumed number of events reached\n",
    "        break\n",
    "        \n",
    "    if cv2.waitKey(20) & 0xFF  ==  ord('q'):   # Break if 'q' pressed on display window\n",
    "        break\n",
    "\n",
    "t_end = datetime.now()\n",
    "\n",
    "tcap = (t_end-t_start).total_seconds()\n",
    "frate = Nframe/tcap\n",
    "\n",
    "print(f\"Streaming from device {mycam} completed\")\n",
    "\n",
    "print(\"Frame resolution: \",imgsize[0],\" x \",imgsize[1])\n",
    "print(\"Expected rate: \",imgrate)\n",
    "print(f\"{Nframe} frames captured in {tcap} s\")\n",
    "print(f\"Average rate {frate} Hz\")\n"
   ]
  },
  {
   "cell_type": "code",
   "execution_count": 6,
   "id": "ab9017b6-9b19-4863-ac34-27f85f033e4d",
   "metadata": {},
   "outputs": [],
   "source": [
    "# Close input, output and all windows\n",
    "\n",
    "cap.release()\n",
    "out.release()\n",
    "cv2.destroyAllWindows()\n"
   ]
  },
  {
   "cell_type": "code",
   "execution_count": null,
   "id": "b1ddd211-7c4b-47c6-bc3e-2d282e8660e8",
   "metadata": {},
   "outputs": [],
   "source": []
  }
 ],
 "metadata": {
  "kernelspec": {
   "display_name": "Python 3 (ipykernel)",
   "language": "python",
   "name": "python3"
  },
  "language_info": {
   "codemirror_mode": {
    "name": "ipython",
    "version": 3
   },
   "file_extension": ".py",
   "mimetype": "text/x-python",
   "name": "python",
   "nbconvert_exporter": "python",
   "pygments_lexer": "ipython3",
   "version": "3.13.3"
  }
 },
 "nbformat": 4,
 "nbformat_minor": 5
}
