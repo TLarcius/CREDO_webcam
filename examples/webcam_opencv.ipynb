{
 "cells": [
  {
   "cell_type": "markdown",
   "id": "54f49847-496d-4595-86ab-00e0f2bdf46f",
   "metadata": {},
   "source": [
    "Code modified from:\n",
    "\n",
    "https://github.com/codingforentrepreneurs/OpenCV-Python-Series/blob/master/src/camera-test.py\n",
    "\n",
    "Video capture settings described on:\n",
    "\n",
    "https://docs.opencv.org/2.4/modules/highgui/doc/reading_and_writing_images_and_video.html#videocapture-set\n"
   ]
  },
  {
   "cell_type": "code",
   "execution_count": 1,
   "id": "5c7f7686-3e5f-4950-b8d7-2a2727cbd15d",
   "metadata": {},
   "outputs": [],
   "source": [
    "import numpy as np\n",
    "import cv2\n",
    "from datetime import datetime"
   ]
  },
  {
   "cell_type": "code",
   "execution_count": 2,
   "id": "9c2c38ad-d19c-416f-b66e-8d8e7df751b1",
   "metadata": {},
   "outputs": [
    {
     "name": "stderr",
     "output_type": "stream",
     "text": [
      "[ WARN:0@1.280] global cap_gstreamer.cpp:1777 open OpenCV | GStreamer warning: Cannot query video position: status=0, value=-1, duration=-1\n"
     ]
    },
    {
     "name": "stdout",
     "output_type": "stream",
     "text": [
      "Streaming from device 5\n",
      "Default resolution:  640.0  x  480.0\n",
      "Default frame rate:  30.0\n",
      "191 frames captured in 11.115154 s\n",
      "Average rate 17.18374752162678 Hz\n"
     ]
    }
   ],
   "source": [
    "# Open device\n",
    "\n",
    "mycam = 5    # Device number for my external Logitech WebCam\n",
    "\n",
    "cap = cv2.VideoCapture(mycam) \n",
    "\n",
    "if not cap.isOpened() :\n",
    "    print(f\"Could not open video device {mycam}\")\n",
    "else :\n",
    "    print(f\"Streaming from device {mycam}\")\n",
    "\n",
    "print(\"Default resolution: \",cap.get(cv2.CAP_PROP_FRAME_WIDTH),\" x \",\n",
    "                             cap.get(cv2.CAP_PROP_FRAME_HEIGHT))\n",
    "\n",
    "print(\"Default frame rate: \",cap.get(cv2.CAP_PROP_FPS))\n",
    "\n",
    "# Modify image size\n",
    "\n",
    "# imgsz = (320, 240)\n",
    "# imgsz = (640, 480)\n",
    "# imgsz = (800, 600)\n",
    "# imgsz = (1280, 960)\n",
    "# imgsz = (1920, 1080)\n",
    "\n",
    "# cap.set(cv2.CAP_PROP_FRAME_WIDTH, imgsz[0])\n",
    "# cap.set(cv2.CAP_PROP_FRAME_HEIGHT, imgsz[1])\n",
    "\n",
    "# Modify frame rate \n",
    "\n",
    "# imgrate = 30\n",
    "# cap.set(cv2.CAP_PROP_FPS, imgrate)\n",
    "\n",
    "\n",
    "# Main loop    \n",
    "\n",
    "Nframe = 0\n",
    "t_start = datetime.now()\n",
    "\n",
    "while(cap.isOpened()):\n",
    "    # Capture frame-by-frame\n",
    "    ret, frame = cap.read()\n",
    "\n",
    "    if ret == True:\n",
    "\n",
    "        cv2.imshow('Webcam',frame)\n",
    "        cv2.setWindowTitle('Webcam','WebCam event #'+str(Nframe))\n",
    "\n",
    "        Nframe += 1\n",
    "        \n",
    "    if cv2.waitKey(20) & 0xFF  ==  ord('q'):\n",
    "        break\n",
    "\n",
    "\n",
    "# Loop completed\n",
    "\n",
    "t_end = datetime.now()\n",
    "\n",
    "tcap = (t_end-t_start).total_seconds()\n",
    "frate = Nframe/tcap\n",
    "\n",
    "print(f\"{Nframe} frames captured in {tcap} s\")\n",
    "print(f\"Average rate {frate} Hz\")\n",
    "\n",
    "# When everything done, release the capture\n",
    "\n",
    "cap.release()\n",
    "cv2.destroyAllWindows()"
   ]
  },
  {
   "cell_type": "code",
   "execution_count": null,
   "id": "72f07834-da3e-415f-aa16-7348461b3e3d",
   "metadata": {},
   "outputs": [],
   "source": []
  }
 ],
 "metadata": {
  "kernelspec": {
   "display_name": "Python 3 (ipykernel)",
   "language": "python",
   "name": "python3"
  },
  "language_info": {
   "codemirror_mode": {
    "name": "ipython",
    "version": 3
   },
   "file_extension": ".py",
   "mimetype": "text/x-python",
   "name": "python",
   "nbconvert_exporter": "python",
   "pygments_lexer": "ipython3",
   "version": "3.13.2"
  }
 },
 "nbformat": 4,
 "nbformat_minor": 5
}
